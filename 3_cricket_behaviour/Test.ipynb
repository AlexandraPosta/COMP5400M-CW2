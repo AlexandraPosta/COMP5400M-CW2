{
 "cells": [
  {
   "cell_type": "code",
   "execution_count": 1,
   "metadata": {},
   "outputs": [],
   "source": [
    "import sys\n",
    "import numpy as np\n",
    "import numpy as np\n",
    "from scipy.io import wavfile\n",
    "from matplotlib import pyplot as plt, patches\n",
    "from matplotlib.lines import Line2D\n",
    "import pandas as pd\n",
    "import math\n",
    "\n",
    "# Hardcoded path to the directory you want to import from\n",
    "path_to_parent = 'c:/Users/Alex/source/repos/COMP5400M-CW2'\n",
    "sys.path.insert(0, path_to_parent)\n",
    "\n",
    "from doa import DoaCNN\n",
    "\n",
    "ROOM_DIM = [10.,10.]\n",
    "AUDIO_PATH = 'c:/Users/Alex/source/repos/COMP5400M-CW2/sound_data/cricket.wav'"
   ]
  },
  {
   "cell_type": "code",
   "execution_count": null,
   "metadata": {},
   "outputs": [],
   "source": [
    "microphones = np.c_[[ROOM_DIM[0]/2-0.1, 0.5, 0], [ROOM_DIM[0]/2+0.1, 0.5, 0]]\n",
    "source_loc = [[ROOM_DIM[0]/2+2, ROOM_DIM[1]-1], [ROOM_DIM[0]/2-3, ROOM_DIM[1]-2]]\n",
    "centre_mic = [ROOM_DIM[0]/2, 0.5]\n",
    "simulation_done = False"
   ]
  },
  {
   "cell_type": "code",
   "execution_count": null,
   "metadata": {},
   "outputs": [],
   "source": [
    "def process(source, mic, ax, pred):\n",
    "    new_mic = [0, 0]\n",
    "    if (source[0]-0.3 < mic[0] < source[0]+0.3 and \n",
    "        source[1]-0.3 < mic[1] < source[1]+0.3):\n",
    "        simulation_done = True\n",
    "    elif (0.3 > mic[0] > 5 or 0.3 > mic[1] > 5):\n",
    "        simulation_done = True\n",
    "    else:\n",
    "        new_mic = update_centre(mic, ax, pred)\n",
    "\n",
    "    return new_mic\n",
    "\n",
    "\n",
    "def update_centre(mic, ax, pred):\n",
    "    pred_degree = max(set(pred), key=pred.count)\n",
    "    pred_rad = math.pi - pred_degree*math.pi/180\n",
    "\n",
    "    x_align = mic[0] + 0.3*np.cos(pred_rad)\n",
    "    y_align = mic[1] + 0.3*np.sin(pred_rad)\n",
    "    new_mic = [0, 0]\n",
    "\n",
    "    if not x_align == False:\n",
    "        ax.add_patch(patches.FancyArrowPatch((float(mic[0])+0.01, float(mic[1]+0.01)), \n",
    "                                            (float(x_align)-0.01, float(y_align)-0.01), \n",
    "                                            mutation_scale=20,\n",
    "                                            alpha = 0.8, arrowstyle='->'))\n",
    "        ax.add_patch(patches.Circle((mic[0], mic[1]), radius=0.1, edgecolor='red', facecolor='none', linewidth=2))\n",
    "        \n",
    "        new_mic = [x_align, y_align]\n",
    "\n",
    "    return new_mic"
   ]
  },
  {
   "cell_type": "code",
   "execution_count": null,
   "metadata": {},
   "outputs": [],
   "source": [
    "# Generate room\n",
    "plt.rcParams.update({'figure.figsize': [8,8], 'figure.autolayout': True, 'font.size': 16})\n",
    "fig, _ = plt.subplots()\n",
    "ax = plt.gca()\n",
    "ax.set_xlim([0, ROOM_DIM[0]+0.5])\n",
    "ax.set_ylim([0, ROOM_DIM[1]+0.5])\n",
    "\n",
    "# Include sound source patch\n",
    "sound_1 = patches.Circle((float(source_loc[0][0]), float(source_loc[0][1])), radius=0.1, facecolor='green', linewidth=5, label='Sound Source')\n",
    "sound_2 = patches.Circle((float(source_loc[1][0]), float(source_loc[1][1])), radius=0.1, facecolor='green', linewidth=5, label='Sound Source')\n",
    "ax.add_patch(sound_1)\n",
    "ax.add_patch(sound_2)\n",
    "\n",
    "# Include custom legend\n",
    "legend_elements = [Line2D([0], [0], marker='o', lw=2, color='green',   label='Sound Source'),\\\n",
    "                   Line2D([0], [0], marker='o', lw=2, color=\"#ff8f0f\", label='Cricket')]\n",
    "ax.legend(handles=legend_elements, loc='upper left')\n",
    "\n",
    "# Generate room\n",
    "fs, signal = wavfile.read(AUDIO_PATH)\n",
    "i = 0\n",
    "\n",
    "# Generate predictions\n",
    "while simulation_done == False:\n",
    "    '''\n",
    "        snr factor:\n",
    "        - 0.1   -> SNR = 10dB\n",
    "        - 0.01  -> SNR = 20dB\n",
    "        - 0.001 -> SNR = 30dB\n",
    "    '''\n",
    "    CNN = DoaCNN(ROOM_DIM, source_loc, centre_mic, 0.01)\n",
    "    CNN.get_room(signal)\n",
    "\n",
    "    # Localize sound\n",
    "    pred = CNN.get_prediction()\n",
    "    centre_mic = process(source_loc[0], centre_mic, ax, pred)\n",
    "    \n",
    "    i += 1\n",
    "    plt.savefig(\"path/path_ideal_%02d.png\"%i)\n",
    "    plt.show"
   ]
  }
 ],
 "metadata": {
  "kernelspec": {
   "display_name": "Python 3",
   "language": "python",
   "name": "python3"
  },
  "language_info": {
   "codemirror_mode": {
    "name": "ipython",
    "version": 3
   },
   "file_extension": ".py",
   "mimetype": "text/x-python",
   "name": "python",
   "nbconvert_exporter": "python",
   "pygments_lexer": "ipython3",
   "version": "3.10.10"
  }
 },
 "nbformat": 4,
 "nbformat_minor": 2
}
