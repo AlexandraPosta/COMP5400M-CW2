{
 "cells": [
  {
   "cell_type": "markdown",
   "metadata": {},
   "source": [
    "# Example\n",
    "\n",
    "- COMP5400M - CW2\n",
    "- Author Name: A. Posta\n",
    "- Description: Predict angles using CNN/MUSIC\n"
   ]
  },
  {
   "cell_type": "markdown",
   "metadata": {},
   "source": [
    "## Imports and constants"
   ]
  },
  {
   "cell_type": "code",
   "execution_count": null,
   "metadata": {},
   "outputs": [],
   "source": [
    "import numpy as np\n",
    "import numpy as np\n",
    "from scipy.io import wavfile\n",
    "\n",
    "from cricket_lib.doa import DoaCNN, DoaMUSIC\n",
    "\n",
    "ROOM_DIM = [5.,5.]\n",
    "AUDIO_PATH = ['sound_data/arctic_a0001.wav']"
   ]
  },
  {
   "cell_type": "markdown",
   "metadata": {},
   "source": [
    "## Configuration"
   ]
  },
  {
   "cell_type": "code",
   "execution_count": null,
   "metadata": {},
   "outputs": [],
   "source": [
    "microphones = np.c_[[ROOM_DIM[0]/2-0.1, 0.5, 0], [ROOM_DIM[0]/2+0.1, 0.5, 0]]\n",
    "source_loc = [[4.5, 4.5]]\n",
    "centre_mic = [2.5, 0.5]\n",
    "\n",
    "# Initialize models\n",
    "CNN = DoaCNN(ROOM_DIM, source_loc, centre_mic, 0.1)\n",
    "MUSIC = DoaMUSIC(ROOM_DIM, source_loc, centre_mic, 0.1)\n",
    "\n",
    "# Generate room\n",
    "signal = []\n",
    "for i in range (0,len(AUDIO_PATH)):\n",
    "    fs, sound_signal = wavfile.read(AUDIO_PATH[i])\n",
    "    signal.append(sound_signal)\n",
    "\n",
    "\n",
    "CNN.get_room(signal)\n",
    "MUSIC.get_room(signal)"
   ]
  },
  {
   "cell_type": "code",
   "execution_count": null,
   "metadata": {},
   "outputs": [],
   "source": [
    "MUSIC.room.plot()"
   ]
  },
  {
   "cell_type": "code",
   "execution_count": null,
   "metadata": {},
   "outputs": [],
   "source": [
    "CNN.room.plot()"
   ]
  },
  {
   "cell_type": "markdown",
   "metadata": {},
   "source": [
    "## Get sound predictions"
   ]
  },
  {
   "cell_type": "code",
   "execution_count": null,
   "metadata": {},
   "outputs": [],
   "source": [
    "# Print the prediction of the MUSIC algorithm in degrees\n",
    "print(MUSIC.get_prediction())"
   ]
  },
  {
   "cell_type": "code",
   "execution_count": null,
   "metadata": {},
   "outputs": [],
   "source": [
    "# Print the prediction of the CNN algorithm in degrees\n",
    "pred = CNN.get_prediction()\n",
    "pred_set = set(pred)\n",
    "print(pred)\n",
    "print(pred_set)"
   ]
  }
 ],
 "metadata": {
  "kernelspec": {
   "display_name": "Python 3",
   "language": "python",
   "name": "python3"
  },
  "language_info": {
   "codemirror_mode": {
    "name": "ipython",
    "version": 3
   },
   "file_extension": ".py",
   "mimetype": "text/x-python",
   "name": "python",
   "nbconvert_exporter": "python",
   "pygments_lexer": "ipython3",
   "version": "3.10.10"
  }
 },
 "nbformat": 4,
 "nbformat_minor": 2
}
